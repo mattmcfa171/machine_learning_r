{
 "cells": [
  {
   "cell_type": "code",
   "execution_count": 1,
   "id": "351ce2e5-d25d-42f3-8b68-0e124ef5779b",
   "metadata": {},
   "outputs": [
    {
     "name": "stderr",
     "output_type": "stream",
     "text": [
      "also installing the dependencies ‘future’, ‘globals’, ‘future.apply’, ‘lava’, ‘survival’, ‘nnet’, ‘prodlim’, ‘class’, ‘proxy’, ‘codetools’, ‘iterators’, ‘gower’, ‘hardhat’, ‘ipred’, ‘rlang’, ‘timeDate’, ‘e1071’, ‘foreach’, ‘ModelMetrics’, ‘pROC’, ‘recipes’\n",
      "\n",
      "\n",
      "Warning message in install.packages(\"caret\"):\n",
      "“installation of package ‘nnet’ had non-zero exit status”\n",
      "Warning message in install.packages(\"caret\"):\n",
      "“installation of package ‘ipred’ had non-zero exit status”\n",
      "Warning message in install.packages(\"caret\"):\n",
      "“installation of package ‘recipes’ had non-zero exit status”\n",
      "Warning message in install.packages(\"caret\"):\n",
      "“installation of package ‘caret’ had non-zero exit status”\n",
      "Updating HTML index of packages in '.Library'\n",
      "\n",
      "Making 'packages.html' ...\n",
      " done\n",
      "\n"
     ]
    }
   ],
   "source": [
    "install.packages(\"caret\")"
   ]
  },
  {
   "cell_type": "code",
   "execution_count": 2,
   "id": "ac334bc3-29af-419b-877b-31ac294a800f",
   "metadata": {},
   "outputs": [
    {
     "ename": "ERROR",
     "evalue": "Error in library(caret): there is no package called ‘caret’\n",
     "output_type": "error",
     "traceback": [
      "Error in library(caret): there is no package called ‘caret’\nTraceback:\n",
      "1. library(caret)"
     ]
    }
   ],
   "source": [
    "library(caret)"
   ]
  },
  {
   "cell_type": "code",
   "execution_count": null,
   "id": "bb8702d3-cc90-4741-ba24-613ccd35d2e0",
   "metadata": {},
   "outputs": [],
   "source": []
  }
 ],
 "metadata": {
  "kernelspec": {
   "display_name": "R",
   "language": "R",
   "name": "ir"
  },
  "language_info": {
   "codemirror_mode": "r",
   "file_extension": ".r",
   "mimetype": "text/x-r-source",
   "name": "R",
   "pygments_lexer": "r",
   "version": "4.0.5"
  }
 },
 "nbformat": 4,
 "nbformat_minor": 5
}
